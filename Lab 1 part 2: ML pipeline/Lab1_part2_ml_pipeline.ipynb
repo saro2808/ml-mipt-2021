{
 "cells": [
  {
   "cell_type": "markdown",
   "metadata": {
    "id": "LITxYhEVkFfY",
    "nbgrader": {
     "grade": false,
     "grade_id": "cell-86e0de040aac317a",
     "locked": true,
     "schema_version": 2,
     "solution": false
    }
   },
   "source": [
    "# Lab assignment №1, part 2\n",
    "\n",
    "This lab assignment consists of several parts. You are supposed to make some transformations, train some models, estimate the quality of the models and explain your results.\n",
    "\n",
    "Several comments:\n",
    "* Don't hesitate to ask questions, it's a good practice.\n",
    "* No private/public sharing, please. The copied assignments will be graded with 0 points.\n",
    "* Blocks of this lab will be graded separately."
   ]
  },
  {
   "cell_type": "markdown",
   "metadata": {
    "id": "J6Qy9gfKkFfe"
   },
   "source": [
    "__*This is the second part of the assignment. First and third parts are waiting for you in the same directory.*__"
   ]
  },
  {
   "cell_type": "markdown",
   "metadata": {
    "id": "jyOhR4VckFff",
    "nbgrader": {
     "grade": false,
     "grade_id": "cell-512ba712fc0fc065",
     "locked": true,
     "schema_version": 2,
     "solution": false
    }
   },
   "source": [
    "## Part 2. Data preprocessing, model training and evaluation."
   ]
  },
  {
   "cell_type": "markdown",
   "metadata": {
    "id": "YSdUk5OfkFff",
    "nbgrader": {
     "grade": false,
     "grade_id": "cell-b656a4266174b009",
     "locked": true,
     "schema_version": 2,
     "solution": false
    }
   },
   "source": [
    "### 1. Reading the data\n",
    "Today we work with the [dataset](https://archive.ics.uci.edu/ml/datasets/Statlog+%28Vehicle+Silhouettes%29), describing different cars for multiclass ($k=4$) classification problem. The data is available below."
   ]
  },
  {
   "cell_type": "code",
   "execution_count": null,
   "metadata": {
    "id": "b3rPTZBhkFfg"
   },
   "outputs": [],
   "source": [
    "# If on colab, uncomment the following lines\n",
    "\n",
    "# ! wget https://raw.githubusercontent.com/girafe-ai/ml-mipt/21f_basic/homeworks_basic/Lab1_ML_pipeline_and_SVM/car_data.csv"
   ]
  },
  {
   "cell_type": "code",
   "execution_count": 1,
   "metadata": {
    "id": "mTDVt7eqkFfh",
    "nbgrader": {
     "grade": false,
     "grade_id": "cell-eebac6bfdf73d0bc",
     "locked": true,
     "schema_version": 2,
     "solution": false
    },
    "outputId": "ff170b59-aafc-473a-f6e6-f343f1323be0"
   },
   "outputs": [
    {
     "name": "stdout",
     "output_type": "stream",
     "text": [
      "(846, 19) (846,)\n",
      "(549, 19) (549,) (297, 19) (297,)\n"
     ]
    }
   ],
   "source": [
    "import pandas as pd\n",
    "import numpy as np\n",
    "from sklearn.model_selection import train_test_split\n",
    "\n",
    "dataset = pd.read_csv('car_data.csv', delimiter=',', header=None).values\n",
    "data = dataset[:, :-1].astype(int)\n",
    "target = dataset[:, -1]\n",
    "\n",
    "print(data.shape, target.shape)\n",
    "\n",
    "X_train, X_test, y_train, y_test = train_test_split(data, target, test_size=0.35)\n",
    "print(X_train.shape, y_train.shape, X_test.shape, y_test.shape)"
   ]
  },
  {
   "cell_type": "markdown",
   "metadata": {
    "id": "7Q9d7MW6kFfj",
    "nbgrader": {
     "grade": false,
     "grade_id": "cell-88b1a0f688568f2c",
     "locked": true,
     "schema_version": 2,
     "solution": false
    }
   },
   "source": [
    "To get some insights about the dataset, `pandas` might be used. The `train` part is transformed to `pd.DataFrame` below."
   ]
  },
  {
   "cell_type": "code",
   "execution_count": 2,
   "metadata": {
    "id": "Btn_tTC2kFfk",
    "outputId": "ec110294-0839-482b-cc3f-1bfa30704b80"
   },
   "outputs": [
    {
     "data": {
      "text/html": [
       "<div>\n",
       "<style scoped>\n",
       "    .dataframe tbody tr th:only-of-type {\n",
       "        vertical-align: middle;\n",
       "    }\n",
       "\n",
       "    .dataframe tbody tr th {\n",
       "        vertical-align: top;\n",
       "    }\n",
       "\n",
       "    .dataframe thead th {\n",
       "        text-align: right;\n",
       "    }\n",
       "</style>\n",
       "<table border=\"1\" class=\"dataframe\">\n",
       "  <thead>\n",
       "    <tr style=\"text-align: right;\">\n",
       "      <th></th>\n",
       "      <th>0</th>\n",
       "      <th>1</th>\n",
       "      <th>2</th>\n",
       "      <th>3</th>\n",
       "      <th>4</th>\n",
       "      <th>5</th>\n",
       "      <th>6</th>\n",
       "      <th>7</th>\n",
       "      <th>8</th>\n",
       "      <th>9</th>\n",
       "      <th>10</th>\n",
       "      <th>11</th>\n",
       "      <th>12</th>\n",
       "      <th>13</th>\n",
       "      <th>14</th>\n",
       "      <th>15</th>\n",
       "      <th>16</th>\n",
       "      <th>17</th>\n",
       "      <th>18</th>\n",
       "    </tr>\n",
       "  </thead>\n",
       "  <tbody>\n",
       "    <tr>\n",
       "      <td>0</td>\n",
       "      <td>531</td>\n",
       "      <td>107</td>\n",
       "      <td>55</td>\n",
       "      <td>103</td>\n",
       "      <td>167</td>\n",
       "      <td>49</td>\n",
       "      <td>7</td>\n",
       "      <td>252</td>\n",
       "      <td>27</td>\n",
       "      <td>28</td>\n",
       "      <td>172</td>\n",
       "      <td>269</td>\n",
       "      <td>904</td>\n",
       "      <td>239</td>\n",
       "      <td>83</td>\n",
       "      <td>5</td>\n",
       "      <td>30</td>\n",
       "      <td>179</td>\n",
       "      <td>186</td>\n",
       "    </tr>\n",
       "    <tr>\n",
       "      <td>1</td>\n",
       "      <td>72</td>\n",
       "      <td>92</td>\n",
       "      <td>39</td>\n",
       "      <td>91</td>\n",
       "      <td>191</td>\n",
       "      <td>62</td>\n",
       "      <td>8</td>\n",
       "      <td>176</td>\n",
       "      <td>37</td>\n",
       "      <td>21</td>\n",
       "      <td>137</td>\n",
       "      <td>196</td>\n",
       "      <td>466</td>\n",
       "      <td>151</td>\n",
       "      <td>67</td>\n",
       "      <td>3</td>\n",
       "      <td>23</td>\n",
       "      <td>192</td>\n",
       "      <td>200</td>\n",
       "    </tr>\n",
       "    <tr>\n",
       "      <td>2</td>\n",
       "      <td>673</td>\n",
       "      <td>91</td>\n",
       "      <td>35</td>\n",
       "      <td>66</td>\n",
       "      <td>159</td>\n",
       "      <td>59</td>\n",
       "      <td>7</td>\n",
       "      <td>147</td>\n",
       "      <td>45</td>\n",
       "      <td>19</td>\n",
       "      <td>131</td>\n",
       "      <td>169</td>\n",
       "      <td>322</td>\n",
       "      <td>123</td>\n",
       "      <td>64</td>\n",
       "      <td>1</td>\n",
       "      <td>1</td>\n",
       "      <td>197</td>\n",
       "      <td>203</td>\n",
       "    </tr>\n",
       "    <tr>\n",
       "      <td>3</td>\n",
       "      <td>467</td>\n",
       "      <td>96</td>\n",
       "      <td>54</td>\n",
       "      <td>104</td>\n",
       "      <td>175</td>\n",
       "      <td>58</td>\n",
       "      <td>10</td>\n",
       "      <td>215</td>\n",
       "      <td>31</td>\n",
       "      <td>24</td>\n",
       "      <td>175</td>\n",
       "      <td>221</td>\n",
       "      <td>682</td>\n",
       "      <td>222</td>\n",
       "      <td>75</td>\n",
       "      <td>13</td>\n",
       "      <td>23</td>\n",
       "      <td>186</td>\n",
       "      <td>194</td>\n",
       "    </tr>\n",
       "    <tr>\n",
       "      <td>4</td>\n",
       "      <td>530</td>\n",
       "      <td>88</td>\n",
       "      <td>48</td>\n",
       "      <td>90</td>\n",
       "      <td>178</td>\n",
       "      <td>60</td>\n",
       "      <td>8</td>\n",
       "      <td>175</td>\n",
       "      <td>38</td>\n",
       "      <td>21</td>\n",
       "      <td>152</td>\n",
       "      <td>200</td>\n",
       "      <td>460</td>\n",
       "      <td>198</td>\n",
       "      <td>68</td>\n",
       "      <td>13</td>\n",
       "      <td>16</td>\n",
       "      <td>192</td>\n",
       "      <td>199</td>\n",
       "    </tr>\n",
       "    <tr>\n",
       "      <td>5</td>\n",
       "      <td>495</td>\n",
       "      <td>94</td>\n",
       "      <td>45</td>\n",
       "      <td>72</td>\n",
       "      <td>179</td>\n",
       "      <td>69</td>\n",
       "      <td>6</td>\n",
       "      <td>156</td>\n",
       "      <td>41</td>\n",
       "      <td>19</td>\n",
       "      <td>144</td>\n",
       "      <td>181</td>\n",
       "      <td>373</td>\n",
       "      <td>191</td>\n",
       "      <td>69</td>\n",
       "      <td>5</td>\n",
       "      <td>5</td>\n",
       "      <td>193</td>\n",
       "      <td>198</td>\n",
       "    </tr>\n",
       "    <tr>\n",
       "      <td>6</td>\n",
       "      <td>20</td>\n",
       "      <td>84</td>\n",
       "      <td>47</td>\n",
       "      <td>75</td>\n",
       "      <td>153</td>\n",
       "      <td>64</td>\n",
       "      <td>6</td>\n",
       "      <td>154</td>\n",
       "      <td>43</td>\n",
       "      <td>19</td>\n",
       "      <td>145</td>\n",
       "      <td>175</td>\n",
       "      <td>354</td>\n",
       "      <td>184</td>\n",
       "      <td>75</td>\n",
       "      <td>0</td>\n",
       "      <td>3</td>\n",
       "      <td>185</td>\n",
       "      <td>192</td>\n",
       "    </tr>\n",
       "    <tr>\n",
       "      <td>7</td>\n",
       "      <td>281</td>\n",
       "      <td>82</td>\n",
       "      <td>43</td>\n",
       "      <td>73</td>\n",
       "      <td>154</td>\n",
       "      <td>65</td>\n",
       "      <td>7</td>\n",
       "      <td>151</td>\n",
       "      <td>44</td>\n",
       "      <td>19</td>\n",
       "      <td>143</td>\n",
       "      <td>178</td>\n",
       "      <td>341</td>\n",
       "      <td>160</td>\n",
       "      <td>76</td>\n",
       "      <td>5</td>\n",
       "      <td>11</td>\n",
       "      <td>185</td>\n",
       "      <td>189</td>\n",
       "    </tr>\n",
       "    <tr>\n",
       "      <td>8</td>\n",
       "      <td>746</td>\n",
       "      <td>91</td>\n",
       "      <td>42</td>\n",
       "      <td>66</td>\n",
       "      <td>142</td>\n",
       "      <td>58</td>\n",
       "      <td>9</td>\n",
       "      <td>134</td>\n",
       "      <td>50</td>\n",
       "      <td>18</td>\n",
       "      <td>142</td>\n",
       "      <td>163</td>\n",
       "      <td>268</td>\n",
       "      <td>164</td>\n",
       "      <td>69</td>\n",
       "      <td>6</td>\n",
       "      <td>5</td>\n",
       "      <td>191</td>\n",
       "      <td>197</td>\n",
       "    </tr>\n",
       "    <tr>\n",
       "      <td>9</td>\n",
       "      <td>81</td>\n",
       "      <td>99</td>\n",
       "      <td>51</td>\n",
       "      <td>92</td>\n",
       "      <td>203</td>\n",
       "      <td>65</td>\n",
       "      <td>5</td>\n",
       "      <td>209</td>\n",
       "      <td>31</td>\n",
       "      <td>24</td>\n",
       "      <td>159</td>\n",
       "      <td>232</td>\n",
       "      <td>671</td>\n",
       "      <td>214</td>\n",
       "      <td>78</td>\n",
       "      <td>5</td>\n",
       "      <td>11</td>\n",
       "      <td>191</td>\n",
       "      <td>189</td>\n",
       "    </tr>\n",
       "    <tr>\n",
       "      <td>10</td>\n",
       "      <td>710</td>\n",
       "      <td>102</td>\n",
       "      <td>54</td>\n",
       "      <td>98</td>\n",
       "      <td>201</td>\n",
       "      <td>61</td>\n",
       "      <td>6</td>\n",
       "      <td>225</td>\n",
       "      <td>29</td>\n",
       "      <td>25</td>\n",
       "      <td>165</td>\n",
       "      <td>246</td>\n",
       "      <td>766</td>\n",
       "      <td>231</td>\n",
       "      <td>79</td>\n",
       "      <td>9</td>\n",
       "      <td>14</td>\n",
       "      <td>188</td>\n",
       "      <td>187</td>\n",
       "    </tr>\n",
       "    <tr>\n",
       "      <td>11</td>\n",
       "      <td>296</td>\n",
       "      <td>98</td>\n",
       "      <td>52</td>\n",
       "      <td>86</td>\n",
       "      <td>207</td>\n",
       "      <td>69</td>\n",
       "      <td>5</td>\n",
       "      <td>192</td>\n",
       "      <td>33</td>\n",
       "      <td>22</td>\n",
       "      <td>161</td>\n",
       "      <td>212</td>\n",
       "      <td>570</td>\n",
       "      <td>221</td>\n",
       "      <td>75</td>\n",
       "      <td>4</td>\n",
       "      <td>6</td>\n",
       "      <td>194</td>\n",
       "      <td>195</td>\n",
       "    </tr>\n",
       "    <tr>\n",
       "      <td>12</td>\n",
       "      <td>294</td>\n",
       "      <td>109</td>\n",
       "      <td>55</td>\n",
       "      <td>102</td>\n",
       "      <td>169</td>\n",
       "      <td>51</td>\n",
       "      <td>6</td>\n",
       "      <td>241</td>\n",
       "      <td>27</td>\n",
       "      <td>26</td>\n",
       "      <td>165</td>\n",
       "      <td>265</td>\n",
       "      <td>870</td>\n",
       "      <td>247</td>\n",
       "      <td>84</td>\n",
       "      <td>10</td>\n",
       "      <td>11</td>\n",
       "      <td>184</td>\n",
       "      <td>183</td>\n",
       "    </tr>\n",
       "    <tr>\n",
       "      <td>13</td>\n",
       "      <td>658</td>\n",
       "      <td>91</td>\n",
       "      <td>39</td>\n",
       "      <td>77</td>\n",
       "      <td>153</td>\n",
       "      <td>59</td>\n",
       "      <td>8</td>\n",
       "      <td>139</td>\n",
       "      <td>48</td>\n",
       "      <td>18</td>\n",
       "      <td>139</td>\n",
       "      <td>159</td>\n",
       "      <td>289</td>\n",
       "      <td>123</td>\n",
       "      <td>62</td>\n",
       "      <td>8</td>\n",
       "      <td>17</td>\n",
       "      <td>201</td>\n",
       "      <td>209</td>\n",
       "    </tr>\n",
       "    <tr>\n",
       "      <td>14</td>\n",
       "      <td>555</td>\n",
       "      <td>87</td>\n",
       "      <td>49</td>\n",
       "      <td>86</td>\n",
       "      <td>190</td>\n",
       "      <td>64</td>\n",
       "      <td>9</td>\n",
       "      <td>177</td>\n",
       "      <td>37</td>\n",
       "      <td>21</td>\n",
       "      <td>153</td>\n",
       "      <td>197</td>\n",
       "      <td>471</td>\n",
       "      <td>209</td>\n",
       "      <td>67</td>\n",
       "      <td>11</td>\n",
       "      <td>7</td>\n",
       "      <td>192</td>\n",
       "      <td>199</td>\n",
       "    </tr>\n",
       "  </tbody>\n",
       "</table>\n",
       "</div>"
      ],
      "text/plain": [
       "      0    1   2    3    4   5   6    7   8   9   10   11   12   13  14  15  \\\n",
       "0   531  107  55  103  167  49   7  252  27  28  172  269  904  239  83   5   \n",
       "1    72   92  39   91  191  62   8  176  37  21  137  196  466  151  67   3   \n",
       "2   673   91  35   66  159  59   7  147  45  19  131  169  322  123  64   1   \n",
       "3   467   96  54  104  175  58  10  215  31  24  175  221  682  222  75  13   \n",
       "4   530   88  48   90  178  60   8  175  38  21  152  200  460  198  68  13   \n",
       "5   495   94  45   72  179  69   6  156  41  19  144  181  373  191  69   5   \n",
       "6    20   84  47   75  153  64   6  154  43  19  145  175  354  184  75   0   \n",
       "7   281   82  43   73  154  65   7  151  44  19  143  178  341  160  76   5   \n",
       "8   746   91  42   66  142  58   9  134  50  18  142  163  268  164  69   6   \n",
       "9    81   99  51   92  203  65   5  209  31  24  159  232  671  214  78   5   \n",
       "10  710  102  54   98  201  61   6  225  29  25  165  246  766  231  79   9   \n",
       "11  296   98  52   86  207  69   5  192  33  22  161  212  570  221  75   4   \n",
       "12  294  109  55  102  169  51   6  241  27  26  165  265  870  247  84  10   \n",
       "13  658   91  39   77  153  59   8  139  48  18  139  159  289  123  62   8   \n",
       "14  555   87  49   86  190  64   9  177  37  21  153  197  471  209  67  11   \n",
       "\n",
       "    16   17   18  \n",
       "0   30  179  186  \n",
       "1   23  192  200  \n",
       "2    1  197  203  \n",
       "3   23  186  194  \n",
       "4   16  192  199  \n",
       "5    5  193  198  \n",
       "6    3  185  192  \n",
       "7   11  185  189  \n",
       "8    5  191  197  \n",
       "9   11  191  189  \n",
       "10  14  188  187  \n",
       "11   6  194  195  \n",
       "12  11  184  183  \n",
       "13  17  201  209  \n",
       "14   7  192  199  "
      ]
     },
     "execution_count": 2,
     "metadata": {},
     "output_type": "execute_result"
    }
   ],
   "source": [
    "X_train_pd = pd.DataFrame(X_train)\n",
    "\n",
    "# First 15 rows of our dataset.\n",
    "X_train_pd.head(15)"
   ]
  },
  {
   "cell_type": "markdown",
   "metadata": {
    "id": "wOLdc7tCkFfl",
    "nbgrader": {
     "grade": false,
     "grade_id": "cell-98e7d91d77d65fcf",
     "locked": true,
     "schema_version": 2,
     "solution": false
    }
   },
   "source": [
    "Methods `describe` and `info` deliver some useful information."
   ]
  },
  {
   "cell_type": "code",
   "execution_count": 3,
   "metadata": {
    "id": "Mzb3Q7G1kFfm",
    "outputId": "4484bc35-d019-4415-8a1e-78e136f8e298"
   },
   "outputs": [
    {
     "data": {
      "text/html": [
       "<div>\n",
       "<style scoped>\n",
       "    .dataframe tbody tr th:only-of-type {\n",
       "        vertical-align: middle;\n",
       "    }\n",
       "\n",
       "    .dataframe tbody tr th {\n",
       "        vertical-align: top;\n",
       "    }\n",
       "\n",
       "    .dataframe thead th {\n",
       "        text-align: right;\n",
       "    }\n",
       "</style>\n",
       "<table border=\"1\" class=\"dataframe\">\n",
       "  <thead>\n",
       "    <tr style=\"text-align: right;\">\n",
       "      <th></th>\n",
       "      <th>0</th>\n",
       "      <th>1</th>\n",
       "      <th>2</th>\n",
       "      <th>3</th>\n",
       "      <th>4</th>\n",
       "      <th>5</th>\n",
       "      <th>6</th>\n",
       "      <th>7</th>\n",
       "      <th>8</th>\n",
       "      <th>9</th>\n",
       "      <th>10</th>\n",
       "      <th>11</th>\n",
       "      <th>12</th>\n",
       "      <th>13</th>\n",
       "      <th>14</th>\n",
       "      <th>15</th>\n",
       "      <th>16</th>\n",
       "      <th>17</th>\n",
       "      <th>18</th>\n",
       "    </tr>\n",
       "  </thead>\n",
       "  <tbody>\n",
       "    <tr>\n",
       "      <td>count</td>\n",
       "      <td>549.000000</td>\n",
       "      <td>549.000000</td>\n",
       "      <td>549.000000</td>\n",
       "      <td>549.000000</td>\n",
       "      <td>549.000000</td>\n",
       "      <td>549.000000</td>\n",
       "      <td>549.000000</td>\n",
       "      <td>549.000000</td>\n",
       "      <td>549.000000</td>\n",
       "      <td>549.000000</td>\n",
       "      <td>549.000000</td>\n",
       "      <td>549.000000</td>\n",
       "      <td>549.000000</td>\n",
       "      <td>549.000000</td>\n",
       "      <td>549.000000</td>\n",
       "      <td>549.000000</td>\n",
       "      <td>549.000000</td>\n",
       "      <td>549.000000</td>\n",
       "      <td>549.000000</td>\n",
       "    </tr>\n",
       "    <tr>\n",
       "      <td>mean</td>\n",
       "      <td>422.661202</td>\n",
       "      <td>93.985428</td>\n",
       "      <td>44.859745</td>\n",
       "      <td>82.382514</td>\n",
       "      <td>170.242259</td>\n",
       "      <td>61.801457</td>\n",
       "      <td>8.581056</td>\n",
       "      <td>169.918033</td>\n",
       "      <td>40.644809</td>\n",
       "      <td>20.666667</td>\n",
       "      <td>147.874317</td>\n",
       "      <td>189.659381</td>\n",
       "      <td>445.737705</td>\n",
       "      <td>175.032787</td>\n",
       "      <td>72.444444</td>\n",
       "      <td>6.378871</td>\n",
       "      <td>12.617486</td>\n",
       "      <td>189.074681</td>\n",
       "      <td>195.714026</td>\n",
       "    </tr>\n",
       "    <tr>\n",
       "      <td>std</td>\n",
       "      <td>242.245340</td>\n",
       "      <td>8.257698</td>\n",
       "      <td>6.247364</td>\n",
       "      <td>15.978982</td>\n",
       "      <td>33.800693</td>\n",
       "      <td>8.037930</td>\n",
       "      <td>4.846860</td>\n",
       "      <td>33.222412</td>\n",
       "      <td>7.846816</td>\n",
       "      <td>2.586461</td>\n",
       "      <td>14.627761</td>\n",
       "      <td>31.222398</td>\n",
       "      <td>176.558804</td>\n",
       "      <td>33.477507</td>\n",
       "      <td>7.201170</td>\n",
       "      <td>4.807080</td>\n",
       "      <td>8.962582</td>\n",
       "      <td>6.213938</td>\n",
       "      <td>7.422852</td>\n",
       "    </tr>\n",
       "    <tr>\n",
       "      <td>min</td>\n",
       "      <td>1.000000</td>\n",
       "      <td>73.000000</td>\n",
       "      <td>33.000000</td>\n",
       "      <td>40.000000</td>\n",
       "      <td>110.000000</td>\n",
       "      <td>47.000000</td>\n",
       "      <td>2.000000</td>\n",
       "      <td>112.000000</td>\n",
       "      <td>26.000000</td>\n",
       "      <td>17.000000</td>\n",
       "      <td>119.000000</td>\n",
       "      <td>130.000000</td>\n",
       "      <td>184.000000</td>\n",
       "      <td>109.000000</td>\n",
       "      <td>60.000000</td>\n",
       "      <td>0.000000</td>\n",
       "      <td>0.000000</td>\n",
       "      <td>176.000000</td>\n",
       "      <td>181.000000</td>\n",
       "    </tr>\n",
       "    <tr>\n",
       "      <td>25%</td>\n",
       "      <td>211.000000</td>\n",
       "      <td>87.000000</td>\n",
       "      <td>40.000000</td>\n",
       "      <td>70.000000</td>\n",
       "      <td>143.000000</td>\n",
       "      <td>57.000000</td>\n",
       "      <td>6.000000</td>\n",
       "      <td>147.000000</td>\n",
       "      <td>33.000000</td>\n",
       "      <td>19.000000</td>\n",
       "      <td>136.000000</td>\n",
       "      <td>169.000000</td>\n",
       "      <td>321.000000</td>\n",
       "      <td>148.000000</td>\n",
       "      <td>67.000000</td>\n",
       "      <td>2.000000</td>\n",
       "      <td>5.000000</td>\n",
       "      <td>185.000000</td>\n",
       "      <td>191.000000</td>\n",
       "    </tr>\n",
       "    <tr>\n",
       "      <td>50%</td>\n",
       "      <td>431.000000</td>\n",
       "      <td>93.000000</td>\n",
       "      <td>44.000000</td>\n",
       "      <td>80.000000</td>\n",
       "      <td>169.000000</td>\n",
       "      <td>61.000000</td>\n",
       "      <td>8.000000</td>\n",
       "      <td>159.000000</td>\n",
       "      <td>42.000000</td>\n",
       "      <td>20.000000</td>\n",
       "      <td>146.000000</td>\n",
       "      <td>180.000000</td>\n",
       "      <td>371.000000</td>\n",
       "      <td>174.000000</td>\n",
       "      <td>72.000000</td>\n",
       "      <td>6.000000</td>\n",
       "      <td>11.000000</td>\n",
       "      <td>189.000000</td>\n",
       "      <td>197.000000</td>\n",
       "    </tr>\n",
       "    <tr>\n",
       "      <td>75%</td>\n",
       "      <td>634.000000</td>\n",
       "      <td>100.000000</td>\n",
       "      <td>50.000000</td>\n",
       "      <td>98.000000</td>\n",
       "      <td>197.000000</td>\n",
       "      <td>65.000000</td>\n",
       "      <td>10.000000</td>\n",
       "      <td>201.000000</td>\n",
       "      <td>46.000000</td>\n",
       "      <td>23.000000</td>\n",
       "      <td>160.000000</td>\n",
       "      <td>219.000000</td>\n",
       "      <td>605.000000</td>\n",
       "      <td>200.000000</td>\n",
       "      <td>75.000000</td>\n",
       "      <td>9.000000</td>\n",
       "      <td>19.000000</td>\n",
       "      <td>193.000000</td>\n",
       "      <td>201.000000</td>\n",
       "    </tr>\n",
       "    <tr>\n",
       "      <td>max</td>\n",
       "      <td>845.000000</td>\n",
       "      <td>117.000000</td>\n",
       "      <td>58.000000</td>\n",
       "      <td>112.000000</td>\n",
       "      <td>322.000000</td>\n",
       "      <td>133.000000</td>\n",
       "      <td>55.000000</td>\n",
       "      <td>262.000000</td>\n",
       "      <td>61.000000</td>\n",
       "      <td>28.000000</td>\n",
       "      <td>180.000000</td>\n",
       "      <td>287.000000</td>\n",
       "      <td>987.000000</td>\n",
       "      <td>268.000000</td>\n",
       "      <td>119.000000</td>\n",
       "      <td>22.000000</td>\n",
       "      <td>39.000000</td>\n",
       "      <td>204.000000</td>\n",
       "      <td>211.000000</td>\n",
       "    </tr>\n",
       "  </tbody>\n",
       "</table>\n",
       "</div>"
      ],
      "text/plain": [
       "               0           1           2           3           4           5   \\\n",
       "count  549.000000  549.000000  549.000000  549.000000  549.000000  549.000000   \n",
       "mean   422.661202   93.985428   44.859745   82.382514  170.242259   61.801457   \n",
       "std    242.245340    8.257698    6.247364   15.978982   33.800693    8.037930   \n",
       "min      1.000000   73.000000   33.000000   40.000000  110.000000   47.000000   \n",
       "25%    211.000000   87.000000   40.000000   70.000000  143.000000   57.000000   \n",
       "50%    431.000000   93.000000   44.000000   80.000000  169.000000   61.000000   \n",
       "75%    634.000000  100.000000   50.000000   98.000000  197.000000   65.000000   \n",
       "max    845.000000  117.000000   58.000000  112.000000  322.000000  133.000000   \n",
       "\n",
       "               6           7           8           9           10          11  \\\n",
       "count  549.000000  549.000000  549.000000  549.000000  549.000000  549.000000   \n",
       "mean     8.581056  169.918033   40.644809   20.666667  147.874317  189.659381   \n",
       "std      4.846860   33.222412    7.846816    2.586461   14.627761   31.222398   \n",
       "min      2.000000  112.000000   26.000000   17.000000  119.000000  130.000000   \n",
       "25%      6.000000  147.000000   33.000000   19.000000  136.000000  169.000000   \n",
       "50%      8.000000  159.000000   42.000000   20.000000  146.000000  180.000000   \n",
       "75%     10.000000  201.000000   46.000000   23.000000  160.000000  219.000000   \n",
       "max     55.000000  262.000000   61.000000   28.000000  180.000000  287.000000   \n",
       "\n",
       "               12          13          14          15          16          17  \\\n",
       "count  549.000000  549.000000  549.000000  549.000000  549.000000  549.000000   \n",
       "mean   445.737705  175.032787   72.444444    6.378871   12.617486  189.074681   \n",
       "std    176.558804   33.477507    7.201170    4.807080    8.962582    6.213938   \n",
       "min    184.000000  109.000000   60.000000    0.000000    0.000000  176.000000   \n",
       "25%    321.000000  148.000000   67.000000    2.000000    5.000000  185.000000   \n",
       "50%    371.000000  174.000000   72.000000    6.000000   11.000000  189.000000   \n",
       "75%    605.000000  200.000000   75.000000    9.000000   19.000000  193.000000   \n",
       "max    987.000000  268.000000  119.000000   22.000000   39.000000  204.000000   \n",
       "\n",
       "               18  \n",
       "count  549.000000  \n",
       "mean   195.714026  \n",
       "std      7.422852  \n",
       "min    181.000000  \n",
       "25%    191.000000  \n",
       "50%    197.000000  \n",
       "75%    201.000000  \n",
       "max    211.000000  "
      ]
     },
     "execution_count": 3,
     "metadata": {},
     "output_type": "execute_result"
    }
   ],
   "source": [
    "X_train_pd.describe()"
   ]
  },
  {
   "cell_type": "code",
   "execution_count": 4,
   "metadata": {
    "id": "mxc-DRsakFfm",
    "outputId": "8841de65-25c0-4037-976e-dcbda7ac17e4"
   },
   "outputs": [
    {
     "name": "stdout",
     "output_type": "stream",
     "text": [
      "<class 'pandas.core.frame.DataFrame'>\n",
      "RangeIndex: 549 entries, 0 to 548\n",
      "Data columns (total 19 columns):\n",
      "0     549 non-null int32\n",
      "1     549 non-null int32\n",
      "2     549 non-null int32\n",
      "3     549 non-null int32\n",
      "4     549 non-null int32\n",
      "5     549 non-null int32\n",
      "6     549 non-null int32\n",
      "7     549 non-null int32\n",
      "8     549 non-null int32\n",
      "9     549 non-null int32\n",
      "10    549 non-null int32\n",
      "11    549 non-null int32\n",
      "12    549 non-null int32\n",
      "13    549 non-null int32\n",
      "14    549 non-null int32\n",
      "15    549 non-null int32\n",
      "16    549 non-null int32\n",
      "17    549 non-null int32\n",
      "18    549 non-null int32\n",
      "dtypes: int32(19)\n",
      "memory usage: 40.9 KB\n"
     ]
    }
   ],
   "source": [
    "X_train_pd.info()"
   ]
  },
  {
   "cell_type": "markdown",
   "metadata": {
    "id": "lD23DDXekFfn",
    "nbgrader": {
     "grade": false,
     "grade_id": "cell-be844269be69c387",
     "locked": true,
     "schema_version": 2,
     "solution": false
    }
   },
   "source": [
    "### 2. Machine Learning pipeline\n",
    "Here you are supposed to perform the desired transformations. Please, explain your results briefly after each task."
   ]
  },
  {
   "cell_type": "markdown",
   "metadata": {
    "id": "Y1BTwu4ckFfn"
   },
   "source": [
    "#### 2.0. Data preprocessing\n",
    "* Make some transformations of the dataset (if necessary). Briefly explain the transformations"
   ]
  },
  {
   "cell_type": "code",
   "execution_count": 5,
   "metadata": {},
   "outputs": [],
   "source": [
    "from sklearn.preprocessing import LabelEncoder\n",
    "import warnings\n",
    "warnings.filterwarnings(\"ignore\")\n",
    "\n",
    "def encode(y):\n",
    "    y_df = pd.DataFrame(y)\n",
    "    le = LabelEncoder()\n",
    "    le.fit(y_df[0])\n",
    "    y_df[0] = le.transform(y_df[0])\n",
    "    encoded_y = np.array(y_df[0])\n",
    "    return encoded_y\n",
    "\n",
    "encoded_y_train = encode(y_train)\n",
    "encoded_y_test = encode(y_test)"
   ]
  },
  {
   "cell_type": "markdown",
   "metadata": {
    "id": "BH93dg2lkFfp"
   },
   "source": [
    "#### 2.1. Basic logistic regression\n",
    "* Find optimal hyperparameters for logistic regression with cross-validation on the `train` data (small grid/random search is enough, no need to find the *best* parameters).\n",
    "\n",
    "* Estimate the model quality with `f1` and `accuracy` scores.\n",
    "* Plot a ROC-curve for the trained model. For the multiclass case you might use `scikitplot` library (e.g. `scikitplot.metrics.plot_roc(test_labels, predicted_proba)`).\n",
    "\n",
    "*Note: please, use the following hyperparameters for logistic regression: `multi_class='multinomial'`, `solver='saga'` `tol=1e-3` and ` max_iter=500`.*"
   ]
  },
  {
   "cell_type": "code",
   "execution_count": 17,
   "metadata": {},
   "outputs": [],
   "source": [
    "from pandas import read_csv\n",
    "from sklearn.linear_model import LogisticRegression\n",
    "from sklearn.model_selection import RepeatedStratifiedKFold\n",
    "from sklearn.model_selection import GridSearchCV\n",
    "from sklearn.metrics import accuracy_score\n",
    "from sklearn.metrics import f1_score\n",
    "import matplotlib.pyplot as plt\n",
    "import scikitplot as skplt\n",
    "\n",
    "# define model\n",
    "model = LogisticRegression(\n",
    "    solver='saga',\n",
    "    l1_ratio=0,\n",
    "    multi_class='multinomial',\n",
    "    tol=1e-3,\n",
    "    max_iter=500\n",
    ")\n",
    "# define evaluation\n",
    "cv = RepeatedStratifiedKFold(n_splits=10, n_repeats=3, random_state=1)\n",
    "# define search space\n",
    "space = dict()\n",
    "space['penalty'] = ['none', 'l1', 'l2', 'elasticnet']\n",
    "space['C'] = [1e-3, 1e-2, 1e-1, 1, 10, 100]\n",
    "# define search\n",
    "search = GridSearchCV(model, space, scoring='accuracy', cv=cv)\n",
    "\n",
    "def process(X_train, X_test, encoded_y_train):\n",
    "    # execute search\n",
    "    result = search.fit(X_train, encoded_y_train)\n",
    "    # summarize result\n",
    "    print('Best Score: %s' % result.best_score_)\n",
    "    print('Best Hyperparameters: %s' % result.best_params_)\n",
    "    #model.fit(X_train, encoded_y_train)\n",
    "    #y_pred = model.predict(X_test)\n",
    "    y_pred = result.predict(X_test)\n",
    "    print('accuracy score is', accuracy_score(encoded_y_test, y_pred))\n",
    "    print('f1 score is', f1_score(encoded_y_test, y_pred, average=None))\n",
    "    # plot ROC curves\n",
    "    y_probas = result.predict_proba(X_test)\n",
    "    skplt.metrics.plot_roc(encoded_y_test, y_probas)\n",
    "    plt.show()"
   ]
  },
  {
   "cell_type": "code",
   "execution_count": 240,
   "metadata": {
    "id": "TYinlD0RkFfr"
   },
   "outputs": [],
   "source": [
    "process(X_train, X_test, encoded_y_train)"
   ]
  },
  {
   "cell_type": "markdown",
   "metadata": {
    "id": "aNRuSpcbkFfs"
   },
   "source": [
    "#### 2.2. PCA: explained variance plot\n",
    "* Apply the PCA to the train part of the data. Build the explaided variance plot. "
   ]
  },
  {
   "cell_type": "code",
   "execution_count": 13,
   "metadata": {},
   "outputs": [
    {
     "data": {
      "image/png": "[encoded data removed]",
      "text/plain": [
       "<Figure size 864x504 with 1 Axes>"
      ]
     },
     "metadata": {
      "needs_background": "light"
     },
     "output_type": "display_data"
    }
   ],
   "source": [
    "from sklearn.decomposition import PCA\n",
    "from sklearn.preprocessing import StandardScaler\n",
    "\n",
    "# Standardizing the features\n",
    "normalized_X_train = StandardScaler().fit_transform(X_train[:, :])\n",
    "normalized_X_test = StandardScaler().fit_transform(X_test[:, :])\n",
    "\n",
    "plt.figure(figsize=(12, 7))\n",
    "pca = PCA().fit(normalized_X_train)\n",
    "plt.plot(np.cumsum(pca.explained_variance_ratio_))\n",
    "plt.xlabel('number of components')\n",
    "plt.ylabel('cumulative explained variance')\n",
    "plt.show()"
   ]
  },
  {
   "cell_type": "markdown",
   "metadata": {
    "id": "TfTLU9X7kFfu",
    "nbgrader": {
     "grade": false,
     "grade_id": "cell-0c1fe666f52fe53c",
     "locked": true,
     "schema_version": 2,
     "solution": false
    }
   },
   "source": [
    "#### 2.3. PCA trasformation\n",
    "* Select the appropriate number of components. Briefly explain your choice. Should you normalize the data?\n",
    "\n",
    "*Use `fit` and `transform` methods to transform the `train` and `test` parts.*"
   ]
  },
  {
   "cell_type": "code",
   "execution_count": 14,
   "metadata": {},
   "outputs": [],
   "source": [
    "# as we can see in the graph the variance is practically 1 for 11 components\n",
    "projected_pca = PCA(n_components=11)\n",
    "projected_X_train = projected_pca.fit_transform(normalized_X_train)\n",
    "projected_X_test = projected_pca.fit_transform(normalized_X_test)"
   ]
  },
  {
   "cell_type": "markdown",
   "metadata": {
    "id": "GvqoZi8PkFfv"
   },
   "source": [
    "**Note: From this point `sklearn` [Pipeline](https://scikit-learn.org/stable/modules/compose.html) might be useful to perform transformations on the data. Refer to the [docs](https://scikit-learn.org/stable/modules/generated/sklearn.pipeline.Pipeline.html) for more information.**"
   ]
  },
  {
   "cell_type": "markdown",
   "metadata": {
    "id": "9bz7Lw1rkFfw",
    "nbgrader": {
     "grade": false,
     "grade_id": "cell-d28b58a35c94e988",
     "locked": true,
     "schema_version": 2,
     "solution": false
    }
   },
   "source": [
    "#### 2.4. Logistic regression on PCA-preprocessed data.\n",
    "* Find optimal hyperparameters for logistic regression with cross-validation on the transformed by PCA `train` data.\n",
    "\n",
    "* Estimate the model quality with `f1` and `accuracy` scores.\n",
    "* Plot a ROC-curve for the trained model. For the multiclass case you might use `scikitplot` library (e.g. `scikitplot.metrics.plot_roc(test_labels, predicted_proba)`).\n",
    "\n",
    "*Note: please, use the following hyperparameters for logistic regression: `multi_class='multinomial'`, `solver='saga'` and `tol=1e-3`*"
   ]
  },
  {
   "cell_type": "code",
   "execution_count": 18,
   "metadata": {
    "id": "DW9lyJRBkFfx",
    "nbgrader": {
     "grade": true,
     "grade_id": "cell-12d53ea45258fa82",
     "locked": false,
     "points": 5,
     "schema_version": 2,
     "solution": true
    }
   },
   "outputs": [
    {
     "name": "stdout",
     "output_type": "stream",
     "text": [
      "Best Score: 0.7219186399514268\n",
      "Best Hyperparameters: {'C': 1, 'penalty': 'l2'}\n",
      "accuracy score is 0.632996632996633\n",
      "f1 score is [0.75776398 0.45588235 0.4084507  0.86451613]\n"
     ]
    },
    {
     "data": {
      "image/png": "[encoded data removed]",
      "text/plain": [
       "<Figure size 432x288 with 1 Axes>"
      ]
     },
     "metadata": {
      "needs_background": "light"
     },
     "output_type": "display_data"
    }
   ],
   "source": [
    "process(projected_X_train, projected_X_test, encoded_y_train)"
   ]
  },
  {
   "cell_type": "markdown",
   "metadata": {
    "id": "pNE4Md3ckFfy",
    "nbgrader": {
     "grade": false,
     "grade_id": "cell-4fbf16c64076e139",
     "locked": true,
     "schema_version": 2,
     "solution": false
    }
   },
   "source": [
    "#### 2.5. Decision tree\n",
    "* Now train a desicion tree on the same data. Find optimal tree depth (`max_depth`) using cross-validation.\n",
    "\n",
    "* Measure the model quality using the same metrics you used above."
   ]
  },
  {
   "cell_type": "code",
   "execution_count": 34,
   "metadata": {
    "id": "vA1q5D2mkFfy",
    "nbgrader": {
     "grade": true,
     "grade_id": "cell-748ed20b51c67fab",
     "locked": false,
     "points": 15,
     "schema_version": 2,
     "solution": true
    }
   },
   "outputs": [
    {
     "name": "stdout",
     "output_type": "stream",
     "text": [
      "The depth-13 tree achieves the best mean cross-validation accuracy 65.39283 +/- 3.80112% on training dataset\n"
     ]
    },
    {
     "data": {
      "image/png": "[encoded data removed]",
      "text/plain": [
       "<Figure size 1080x360 with 1 Axes>"
      ]
     },
     "metadata": {
      "needs_background": "light"
     },
     "output_type": "display_data"
    }
   ],
   "source": [
    "from sklearn.tree import DecisionTreeClassifier\n",
    "from sklearn.model_selection import cross_val_score\n",
    "\n",
    "#dtc = DecisionTreeClassifier()\n",
    "#dtc.fit(projected_X_train, encoded_y_train)\n",
    "\n",
    "tree_depths = range(1, 15)\n",
    "cv_scores_list = []\n",
    "cv_scores_std = []\n",
    "cv_scores_mean = []\n",
    "accuracy_scores = []\n",
    "for depth in tree_depths:\n",
    "    tree_model = DecisionTreeClassifier(max_depth=depth)\n",
    "    cv_scores = cross_val_score(\n",
    "        tree_model,\n",
    "        projected_X_train,\n",
    "        encoded_y_train,\n",
    "        cv=5,\n",
    "        scoring='accuracy'\n",
    "    )\n",
    "    cv_scores_list.append(cv_scores)\n",
    "    cv_scores_mean.append(cv_scores.mean())\n",
    "    cv_scores_std.append(cv_scores.std())\n",
    "    accuracy_scores.append(\n",
    "        tree_model.fit(projected_X_train, encoded_y_train).score(projected_X_train, encoded_y_train)\n",
    "    )\n",
    "\n",
    "cv_scores_mean = np.array(cv_scores_mean)\n",
    "cv_scores_std = np.array(cv_scores_std)\n",
    "accuracy_scores = np.array(accuracy_scores)\n",
    "\n",
    "fig, ax = plt.subplots(1, 1, figsize=(15,5))\n",
    "ax.plot(tree_depths, cv_scores_mean, '-o', label='mean cross-validation accuracy', alpha=0.9)\n",
    "ax.fill_between(tree_depths, cv_scores_mean-2*cv_scores_std, cv_scores_mean+2*cv_scores_std, alpha=0.2)\n",
    "\n",
    "ax.plot(tree_depths, accuracy_scores, '-*', label='train accuracy', alpha=0.9)\n",
    "ax.set_title('Accuracy per decision tree depth on training data', fontsize=16)\n",
    "ax.set_xlabel('Tree depth', fontsize=14)\n",
    "ax.set_ylabel('Accuracy', fontsize=14)\n",
    "\n",
    "ax.set_xticks(tree_depths)\n",
    "ax.legend()\n",
    "\n",
    "idx_max = cv_scores_mean.argmax()\n",
    "best_tree_depth = tree_depths[idx_max]\n",
    "best_tree_cv_score = cv_scores_mean[idx_max]\n",
    "best_tree_cv_score_std = cv_scores_std[idx_max]\n",
    "print('The depth-{} tree achieves the best mean cross-validation accuracy {} +/- {}% on training dataset'.format(\n",
    "      best_tree_depth, round(best_tree_cv_score*100,5), round(best_tree_cv_score_std*100, 5)))"
   ]
  },
  {
   "cell_type": "code",
   "execution_count": 35,
   "metadata": {},
   "outputs": [
    {
     "name": "stdout",
     "output_type": "stream",
     "text": [
      "Single tree depth:  14\n",
      "Accuracy, Training Set:  100.0 %\n",
      "Accuracy, Test Set:  57.91246 %\n"
     ]
    }
   ],
   "source": [
    "dtc_model = DecisionTreeClassifier(max_depth=depth).fit(projected_X_train, encoded_y_train)\n",
    "accuracy_train = dtc_model.score(projected_X_train, encoded_y_train)\n",
    "accuracy_test = dtc_model.score(projected_X_test, encoded_y_test)\n",
    "print('Single tree depth: ', depth)\n",
    "print('Accuracy, Training Set: ', round(accuracy_train*100,5), '%')\n",
    "print('Accuracy, Test Set: ', round(accuracy_test*100,5), '%')"
   ]
  },
  {
   "cell_type": "markdown",
   "metadata": {
    "id": "_Wi28bxNkFfz",
    "nbgrader": {
     "grade": false,
     "grade_id": "cell-9eadd4d8a03ae67a",
     "locked": true,
     "schema_version": 2,
     "solution": false
    }
   },
   "source": [
    "#### 2.6. Bagging.\n",
    "Here starts the ensembling part.\n",
    "\n",
    "First we will use the __Bagging__ approach. Build an ensemble of $N$ algorithms varying N from $N_{min}=2$ to $N_{max}=100$ (with step 5).\n",
    "\n",
    "We will build two ensembles: of logistic regressions and of decision trees.\n",
    "\n",
    "*Comment: each ensemble should be constructed from models of the same family, so logistic regressions should not be mixed up with decision trees.*\n",
    "\n",
    "\n",
    "*Hint 1: To build a __Bagging__ ensebmle varying the ensemble size efficiently you might generate $N_{max}$ subsets of `train` data (of the same size as the original dataset) using bootstrap procedure once. Then you train a new instance of logistic regression/decision tree with optimal hyperparameters you estimated before on each subset (so you train it from scratch). Finally, to get an ensemble of $N$ models you average the $N$ out of $N_{max}$ models predictions.*\n",
    "\n",
    "*Hint 2: sklearn might help you with this taks. Some appropriate function/class might be out there.*\n",
    "\n",
    "* Plot `f1` and `accuracy` scores plots w.r.t. the size of the ensemble.\n",
    "\n",
    "* Briefly analyse the plot. What is the optimal number of algorithms? Explain your answer.\n",
    "\n",
    "* How do you think, are the hyperparameters for the decision trees you found in 2.5 optimal for trees used in ensemble? "
   ]
  },
  {
   "cell_type": "code",
   "execution_count": null,
   "metadata": {
    "id": "lFQkyZgykFfz",
    "nbgrader": {
     "grade": true,
     "grade_id": "cell-8fc95a2b206bdae1",
     "locked": false,
     "points": 35,
     "schema_version": 2,
     "solution": true
    }
   },
   "outputs": [],
   "source": []
  },
  {
   "cell_type": "code",
   "execution_count": null,
   "metadata": {
    "id": "T1DtKgLOkFf0"
   },
   "outputs": [],
   "source": []
  },
  {
   "cell_type": "markdown",
   "metadata": {
    "id": "D39UD0LHkFf0",
    "nbgrader": {
     "grade": false,
     "grade_id": "cell-241b7691ab44cbfb",
     "locked": true,
     "schema_version": 2,
     "solution": false
    }
   },
   "source": [
    "#### 2.7. Random Forest\n",
    "Now we will work with the Random Forest (its `sklearn` implementation).\n",
    "\n",
    "* * Plot `f1` and `accuracy` scores plots w.r.t. the number of trees in Random Forest.\n",
    "\n",
    "* What is the optimal number of trees you've got? Is it different from the optimal number of logistic regressions/decision trees in 2.6? Explain the results briefly."
   ]
  },
  {
   "cell_type": "code",
   "execution_count": null,
   "metadata": {
    "id": "D3Cn32LEkFf0",
    "nbgrader": {
     "grade": true,
     "grade_id": "cell-888755d0f3d91620",
     "locked": false,
     "points": 15,
     "schema_version": 2,
     "solution": true
    }
   },
   "outputs": [],
   "source": [
    "from sklearn.ensemble import RandomForestClassifier\n",
    "\n",
    "# YOUR CODE HERE"
   ]
  },
  {
   "cell_type": "markdown",
   "metadata": {
    "id": "7RE5nlAmkFf1",
    "nbgrader": {
     "grade": false,
     "grade_id": "cell-99191c0852538d4d",
     "locked": true,
     "schema_version": 2,
     "solution": false
    }
   },
   "source": [
    "#### 2.8. Learning curve\n",
    "Your goal is to estimate, how does the model behaviour change with the increase of the `train` dataset size.\n",
    "\n",
    "* Split the training data into 10 equal (almost) parts. Then train the models from above (Logistic regression, Desicion Tree, Random Forest) with optimal hyperparameters you have selected on 1 part, 2 parts (combined, so the train size in increased by 2 times), 3 parts and so on.\n",
    "\n",
    "* Build a plot of `accuracy` and `f1` scores on `test` part, varying the `train` dataset size (so the axes will be score - dataset size.\n",
    "\n",
    "* Analyse the final plot. Can you make any conlusions using it? "
   ]
  },
  {
   "cell_type": "code",
   "execution_count": null,
   "metadata": {
    "id": "MFRUYQlfkFf1",
    "nbgrader": {
     "grade": true,
     "grade_id": "cell-e39bc7e7dff61ff9",
     "locked": false,
     "points": 15,
     "schema_version": 2,
     "solution": true
    }
   },
   "outputs": [],
   "source": [
    "# YOUR CODE HERE"
   ]
  }
 ],
 "metadata": {
  "celltoolbar": "Create Assignment",
  "colab": {
   "name": "Lab1_part2_ml_pipeline.ipynb",
   "provenance": []
  },
  "kernelspec": {
   "display_name": "Python 3 (ipykernel)",
   "language": "python",
   "name": "python3"
  },
  "language_info": {
   "codemirror_mode": {
    "name": "ipython",
    "version": 3
   },
   "file_extension": ".py",
   "mimetype": "text/x-python",
   "name": "python",
   "nbconvert_exporter": "python",
   "pygments_lexer": "ipython3",
   "version": "3.7.4"
  },
  "toc": {
   "base_numbering": 1,
   "nav_menu": {},
   "number_sections": false,
   "sideBar": true,
   "skip_h1_title": false,
   "title_cell": "Table of Contents",
   "title_sidebar": "Contents",
   "toc_cell": false,
   "toc_position": {},
   "toc_section_display": true,
   "toc_window_display": false
  }
 },
 "nbformat": 4,
 "nbformat_minor": 1
}
