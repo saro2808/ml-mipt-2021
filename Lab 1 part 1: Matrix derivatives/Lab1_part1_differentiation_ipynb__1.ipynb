{
  "nbformat": 4,
  "nbformat_minor": 0,
  "metadata": {
    "kernelspec": {
      "display_name": "mipt",
      "language": "python",
      "name": "mipt"
    },
    "language_info": {
      "codemirror_mode": {
        "name": "ipython",
        "version": 3
      },
      "file_extension": ".py",
      "mimetype": "text/x-python",
      "name": "python",
      "nbconvert_exporter": "python",
      "pygments_lexer": "ipython3",
      "version": "3.9.5"
    },
    "colab": {
      "name": "Копия блокнота \"Lab1_part1_differentiation.ipynb\"",
      "provenance": [],
      "collapsed_sections": []
    }
  },
  "cells": [
    {
      "cell_type": "markdown",
      "metadata": {
        "id": "LI6BkJQsCO4A"
      },
      "source": [
        "*Credits: materials from this notebook belong to YSDA [Practical DL](https://github.com/yandexdataschool/Practical_DL) course. Special thanks for making them available online.*"
      ]
    },
    {
      "cell_type": "markdown",
      "metadata": {
        "id": "HcxvTdCBCO4G"
      },
      "source": [
        "# Lab assignment №1, part 1\n",
        "\n",
        "This lab assignment consists of several parts. You are supposed to make some transformations, train some models, estimate the quality of the models and explain your results.\n",
        "\n",
        "Several comments:\n",
        "* Don't hesitate to ask questions, it's a good practice.\n",
        "* No private/public sharing, please. The copied assignments will be graded with 0 points.\n",
        "* Blocks of this lab will be graded separately."
      ]
    },
    {
      "cell_type": "markdown",
      "metadata": {
        "id": "1rJvnBlsCO4I"
      },
      "source": [
        "## Part 1. Matrix differentiation"
      ]
    },
    {
      "cell_type": "markdown",
      "metadata": {
        "id": "1a2rzw5sCO4J"
      },
      "source": [
        "Since it easy to google every task please please please try to undestand what's going on. The \"just answer\" thing will be not counted, make sure to present derivation of your solution. It is absolutely OK if you found an answer on web then just exercise in $\\LaTeX$ copying it into here."
      ]
    },
    {
      "cell_type": "code",
      "metadata": {
        "id": "UkL4nRtxCO4J",
        "colab": {
          "base_uri": "https://localhost:8080/"
        },
        "outputId": "f2aeafec-7234-4241-b95a-ed11e375ea6a"
      },
      "source": [
        "# If on colab, uncomment the following lines\n",
        "\n",
        "! wget https://raw.githubusercontent.com/girafe-ai/ml-mipt/21f_basic/homeworks_basic/Lab1_ML_pipeline_and_SVM/grad.png"
      ],
      "execution_count": null,
      "outputs": [
        {
          "output_type": "stream",
          "name": "stdout",
          "text": [
            "--2021-10-30 11:55:36--  https://raw.githubusercontent.com/girafe-ai/ml-mipt/21f_basic/homeworks_basic/Lab1_ML_pipeline_and_SVM/grad.png\n",
            "Resolving raw.githubusercontent.com (raw.githubusercontent.com)... 185.199.108.133, 185.199.109.133, 185.199.110.133, ...\n",
            "Connecting to raw.githubusercontent.com (raw.githubusercontent.com)|185.199.108.133|:443... connected.\n",
            "HTTP request sent, awaiting response... 200 OK\n",
            "Length: 194173 (190K) [image/png]\n",
            "Saving to: ‘grad.png’\n",
            "\n",
            "\rgrad.png              0%[                    ]       0  --.-KB/s               \rgrad.png            100%[===================>] 189.62K  --.-KB/s    in 0.02s   \n",
            "\n",
            "2021-10-30 11:55:36 (8.02 MB/s) - ‘grad.png’ saved [194173/194173]\n",
            "\n"
          ]
        }
      ]
    },
    {
      "cell_type": "markdown",
      "metadata": {
        "id": "VlshvtOLCO4L"
      },
      "source": [
        "Useful links: \n",
        "[1](http://www.machinelearning.ru/wiki/images/2/2a/Matrix-Gauss.pdf)\n",
        "[2](http://www.atmos.washington.edu/~dennis/MatrixCalculus.pdf)\n",
        "[3](http://research.microsoft.com/en-us/um/people/cmbishop/prml/index.htm)"
      ]
    },
    {
      "cell_type": "markdown",
      "metadata": {
        "id": "SJUZuOWtCO4L"
      },
      "source": [
        "## ex. 1"
      ]
    },
    {
      "cell_type": "markdown",
      "metadata": {
        "id": "A1COUtQLCO4M"
      },
      "source": [
        "$$  \n",
        "y = x^Tx,  \\quad x \\in \\mathbb{R}^N \n",
        "$$"
      ]
    },
    {
      "cell_type": "markdown",
      "metadata": {
        "id": "AeiEf6EbCO4N"
      },
      "source": [
        "We have\n",
        "$$\\frac{\\partial}{\\partial x_i}\\sum_{i=1}^nx_i^2=2x_i$$\n",
        "so\n",
        "$$\n",
        "\\frac{dy}{dx} = 2x\n",
        "$$ "
      ]
    },
    {
      "cell_type": "code",
      "metadata": {
        "collapsed": true,
        "jupyter": {
          "outputs_hidden": true
        },
        "id": "px8IUY29CO4N"
      },
      "source": [
        ""
      ],
      "execution_count": null,
      "outputs": []
    },
    {
      "cell_type": "markdown",
      "metadata": {
        "id": "3SL1632KCO4O"
      },
      "source": [
        "## ex. 2"
      ]
    },
    {
      "cell_type": "markdown",
      "metadata": {
        "id": "wOsJNMKhCO4P"
      },
      "source": [
        "$$ y = tr(AB) \\quad A,B \\in \\mathbb{R}^{N \\times N} $$ "
      ]
    },
    {
      "cell_type": "markdown",
      "metadata": {
        "id": "yAwmT-p_CO4P"
      },
      "source": [
        "We have\n",
        "$$\\frac{\\partial}{\\partial a_{ij}}tr(AB)=\\frac{\\partial}{\\partial a_{ij}}\\left(\\sum_{j=1}^na_{1j}b_{j1}+\\dots+\\sum_{j=1}^na_{nj}b_{jn}\\right)=b_{ji}$$\n",
        "so\n",
        "$$\n",
        "\\frac{dy}{dA} =B^T\n",
        "$$"
      ]
    },
    {
      "cell_type": "code",
      "metadata": {
        "collapsed": true,
        "jupyter": {
          "outputs_hidden": true
        },
        "id": "UUvrH_v_CO4Q"
      },
      "source": [
        ""
      ],
      "execution_count": null,
      "outputs": []
    },
    {
      "cell_type": "markdown",
      "metadata": {
        "id": "5N17HTwBCO4Q"
      },
      "source": [
        "## ex. 3"
      ]
    },
    {
      "cell_type": "markdown",
      "metadata": {
        "id": "CV8fnqKcCO4Q"
      },
      "source": [
        "$$  \n",
        "y = x^TAc , \\quad A\\in \\mathbb{R}^{N \\times N}, x\\in \\mathbb{R}^{N}, c\\in \\mathbb{R}^{N} \n",
        "$$"
      ]
    },
    {
      "cell_type": "markdown",
      "metadata": {
        "id": "NdsKrAnJCO4R"
      },
      "source": [
        "Note that\n",
        "$$y = x^TAc = \\sum_{i=1}^nx_ia_{1i}c_1+\\dots+\\sum_{i=1}^nx_ia_{ni}c_n.$$\n",
        "\n",
        "Hence\n",
        "$$\\frac{\\partial}{\\partial x_i}y=a_{1i}c_1+\\dots+a_{ni}c_n$$\n",
        "\n",
        "and\n",
        "\n",
        "$$\n",
        "\\frac{dy}{dx} =A^Tc\n",
        "$$"
      ]
    },
    {
      "cell_type": "markdown",
      "metadata": {
        "id": "PRyQ1V4-CO4R"
      },
      "source": [
        "Also\n",
        "$$\\frac{\\partial}{\\partial a_{ij}}y=\\frac{\\partial}{\\partial a_{ij}}\\sum_{j=1}^nx_ja_{ij}c_i=x_jc_i$$\n",
        "and\n",
        "$$\n",
        "\\frac{dy}{dA} = c^Tx\n",
        "$$"
      ]
    },
    {
      "cell_type": "markdown",
      "metadata": {
        "id": "9fjgjCJ7CO4R"
      },
      "source": [
        "Hint for the latter (one of the ways): use *ex. 2* result and the fact \n",
        "$$\n",
        "tr(ABC) = tr (CAB)\n",
        "$$"
      ]
    },
    {
      "cell_type": "code",
      "metadata": {
        "collapsed": true,
        "jupyter": {
          "outputs_hidden": true
        },
        "id": "6lcjpsVuCO4R"
      },
      "source": [
        ""
      ],
      "execution_count": null,
      "outputs": []
    },
    {
      "cell_type": "markdown",
      "metadata": {
        "id": "eFMvSo0hCO4S"
      },
      "source": [
        "## ex. 4"
      ]
    },
    {
      "cell_type": "markdown",
      "metadata": {
        "id": "u4MJhMeyCO4S"
      },
      "source": [
        "Classic matrix factorization example. Given matrix $X$ you need to find $A$, $S$ to approximate $X$. This can be done by simple gradient descent iteratively alternating $A$ and $S$ updates.\n",
        "$$\n",
        "J = || X - AS ||_F^2  , \\quad A\\in \\mathbb{R}^{N \\times R} , \\quad S\\in \\mathbb{R}^{R \\times M}\n",
        "$$\n",
        "$$\n",
        "\\frac{dJ}{dS} = ? \n",
        "$$\n",
        "\n",
        "First note that if $X, Y\\in \\mathbb{R}^{m\\times n}$ then\n",
        "$$d\\langle X, Y\\rangle = d \\sum_{i=1}^m\\sum_{j=1}^n x_{ij} y_{ij} = \\sum_{i=1}^m\\sum_{j=1}^n ((dx_{ij}) y_{ij}+x_{ij} (dy_{ij})) = \\langle dX, Y\\rangle + \\langle X, dY\\rangle$$\n",
        "Using this result we get\n",
        "$$dJ=d\\langle X-AS, X-AS\\rangle=d(\\langle X, X\\rangle-2\\langle X, AS\\rangle+\\langle AS, AS\\rangle)=-2\\langle X, AdS\\rangle+2\\langle AS, AdS\\rangle=-2\\langle A^T(X-AS), dS\\rangle$$\n",
        "so\n",
        "$$\\frac{dJ}{dS}=-2A^T(X-AS).$$\n",
        "You may use one of the following approaches:"
      ]
    },
    {
      "cell_type": "markdown",
      "metadata": {
        "id": "14wWwR4fCO4S"
      },
      "source": [
        "#### First approach\n",
        "Using ex.2 and the fact:\n",
        "$$\n",
        "|| X ||_F^2 = tr(XX^T) \n",
        "$$ \n",
        "it is easy to derive gradients (you can find it in one of the refs). "
      ]
    },
    {
      "cell_type": "markdown",
      "metadata": {
        "id": "CD7fcE7cCO4S"
      },
      "source": [
        "#### Second approach\n",
        "You can use *slightly different techniques* if they suits you. Take a look at this derivation:\n",
        "<img src=\"https://github.com/girafe-ai/ml-mipt/blob/21f_basic/homeworks_basic/Lab1_ML_pipeline_and_SVM/grad.png?raw=1\">\n",
        "(excerpt from [Handbook of blind source separation, Jutten, page 517](https://books.google.ru/books?id=PTbj03bYH6kC&printsec=frontcover&dq=Handbook+of+Blind+Source+Separation&hl=en&sa=X&ved=0ahUKEwi-q_apiJDLAhULvXIKHVXJDWcQ6AEIHDAA#v=onepage&q=Handbook%20of%20Blind%20Source%20Separation&f=false), open for better picture)."
      ]
    },
    {
      "cell_type": "markdown",
      "metadata": {
        "id": "vss-TewNCO4T"
      },
      "source": [
        "#### Third approach\n",
        "And finally we can use chain rule! \n",
        "let $ F = AS $ \n",
        "\n",
        "**Find**\n",
        "$$\n",
        "\\frac{dJ}{dF} =  \n",
        "$$ \n",
        "and \n",
        "$$\n",
        "\\frac{dF}{dS} =  \n",
        "$$ \n",
        "(the shape should be $ NM \\times RM )$.\n",
        "\n",
        "Now it is easy do get desired gradients:\n",
        "$$\n",
        "\\frac{dJ}{dS} =  \n",
        "$$ "
      ]
    },
    {
      "cell_type": "code",
      "metadata": {
        "collapsed": true,
        "jupyter": {
          "outputs_hidden": true
        },
        "id": "PHomA6tCCO4T"
      },
      "source": [
        ""
      ],
      "execution_count": null,
      "outputs": []
    }
  ]
}